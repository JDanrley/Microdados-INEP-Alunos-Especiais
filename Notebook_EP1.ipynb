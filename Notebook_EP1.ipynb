{
 "cells": [
  {
   "cell_type": "markdown",
   "metadata": {},
   "source": [
    "# EP1 - Análise de Dados da Educação Brasileira - Inclusão de alunos especiais"
   ]
  },
  {
   "cell_type": "code",
   "execution_count": 1,
   "metadata": {},
   "outputs": [],
   "source": [
    "import pandas as pd\n",
    "import matplotlib.pyplot as plt\n",
    "low_memory=False\n",
    "# Importando as primeiras bibliotecas"
   ]
  },
  {
   "cell_type": "code",
   "execution_count": 2,
   "metadata": {},
   "outputs": [],
   "source": [
    "mat14 = pd.read_csv(r'./Documents/Algorítimos e Lógica de Programação/dados abertos/2014/MATRICULA_NORTE.csv', delimiter = '|', encoding = 'iso-8859-1', usecols = ['ID_TIPO_NEC_ESP_CEGUEIRA', 'ID_TIPO_NEC_ESP_SURDEZ', 'ID_TIPO_NEC_ESP_AUTISMO'])"
   ]
  },
  {
   "cell_type": "code",
   "execution_count": 3,
   "metadata": {},
   "outputs": [],
   "source": [
    "mat15 = pd.read_csv(r'./Documents/Algorítimos e Lógica de Programação/dados abertos/2015/MATRICULA_NORTE.csv', delimiter = '|', encoding = 'iso-8859-1', usecols = ['IN_CEGUEIRA', 'IN_SURDEZ', 'IN_AUTISMO'])"
   ]
  },
  {
   "cell_type": "code",
   "execution_count": 4,
   "metadata": {},
   "outputs": [],
   "source": [
    "mat16 = pd.read_csv(r'./Documents/Algorítimos e Lógica de Programação/dados abertos/2016/MATRICULA_NORTE.csv', delimiter = '|', encoding = 'iso-8859-1', usecols = ['IN_CEGUEIRA', 'IN_SURDEZ', 'IN_AUTISMO'])"
   ]
  },
  {
   "cell_type": "code",
   "execution_count": 5,
   "metadata": {},
   "outputs": [],
   "source": [
    "mat17 = pd.read_csv(r'./Documents/Algorítimos e Lógica de Programação/dados abertos/2017/MATRICULA_NORTE.csv', delimiter = '|', encoding = 'iso-8859-1', usecols = ['IN_CEGUEIRA', 'IN_SURDEZ', 'IN_AUTISMO'])"
   ]
  },
  {
   "cell_type": "code",
   "execution_count": 6,
   "metadata": {},
   "outputs": [],
   "source": [
    "mat18 = pd.read_csv(r'./Documents/Algorítimos e Lógica de Programação/dados abertos/2018/MATRICULA_NORTE.csv', delimiter = '|', encoding = 'iso-8859-1', usecols = ['IN_CEGUEIRA', 'IN_SURDEZ', 'IN_AUTISMO'])"
   ]
  },
  {
   "cell_type": "code",
   "execution_count": 7,
   "metadata": {
    "scrolled": true
   },
   "outputs": [
    {
     "data": {
      "text/html": [
       "<div>\n",
       "<style scoped>\n",
       "    .dataframe tbody tr th:only-of-type {\n",
       "        vertical-align: middle;\n",
       "    }\n",
       "\n",
       "    .dataframe tbody tr th {\n",
       "        vertical-align: top;\n",
       "    }\n",
       "\n",
       "    .dataframe thead th {\n",
       "        text-align: right;\n",
       "    }\n",
       "</style>\n",
       "<table border=\"1\" class=\"dataframe\">\n",
       "  <thead>\n",
       "    <tr style=\"text-align: right;\">\n",
       "      <th></th>\n",
       "      <th>ID_TIPO_NEC_ESP_CEGUEIRA</th>\n",
       "      <th>ID_TIPO_NEC_ESP_SURDEZ</th>\n",
       "      <th>ID_TIPO_NEC_ESP_AUTISMO</th>\n",
       "    </tr>\n",
       "  </thead>\n",
       "  <tbody>\n",
       "    <tr>\n",
       "      <th>0</th>\n",
       "      <td>0</td>\n",
       "      <td>0</td>\n",
       "      <td>0</td>\n",
       "    </tr>\n",
       "    <tr>\n",
       "      <th>1</th>\n",
       "      <td>0</td>\n",
       "      <td>0</td>\n",
       "      <td>0</td>\n",
       "    </tr>\n",
       "  </tbody>\n",
       "</table>\n",
       "</div>"
      ],
      "text/plain": [
       "   ID_TIPO_NEC_ESP_CEGUEIRA  ID_TIPO_NEC_ESP_SURDEZ  ID_TIPO_NEC_ESP_AUTISMO\n",
       "0                         0                       0                        0\n",
       "1                         0                       0                        0"
      ]
     },
     "execution_count": 7,
     "metadata": {},
     "output_type": "execute_result"
    }
   ],
   "source": [
    "mat14.head(2)"
   ]
  },
  {
   "cell_type": "code",
   "execution_count": 8,
   "metadata": {},
   "outputs": [
    {
     "data": {
      "text/html": [
       "<div>\n",
       "<style scoped>\n",
       "    .dataframe tbody tr th:only-of-type {\n",
       "        vertical-align: middle;\n",
       "    }\n",
       "\n",
       "    .dataframe tbody tr th {\n",
       "        vertical-align: top;\n",
       "    }\n",
       "\n",
       "    .dataframe thead th {\n",
       "        text-align: right;\n",
       "    }\n",
       "</style>\n",
       "<table border=\"1\" class=\"dataframe\">\n",
       "  <thead>\n",
       "    <tr style=\"text-align: right;\">\n",
       "      <th></th>\n",
       "      <th>IN_CEGUEIRA</th>\n",
       "      <th>IN_SURDEZ</th>\n",
       "      <th>IN_AUTISMO</th>\n",
       "    </tr>\n",
       "  </thead>\n",
       "  <tbody>\n",
       "    <tr>\n",
       "      <th>5866808</th>\n",
       "      <td>NaN</td>\n",
       "      <td>NaN</td>\n",
       "      <td>NaN</td>\n",
       "    </tr>\n",
       "    <tr>\n",
       "      <th>5866809</th>\n",
       "      <td>NaN</td>\n",
       "      <td>NaN</td>\n",
       "      <td>NaN</td>\n",
       "    </tr>\n",
       "  </tbody>\n",
       "</table>\n",
       "</div>"
      ],
      "text/plain": [
       "         IN_CEGUEIRA  IN_SURDEZ  IN_AUTISMO\n",
       "5866808          NaN        NaN         NaN\n",
       "5866809          NaN        NaN         NaN"
      ]
     },
     "execution_count": 8,
     "metadata": {},
     "output_type": "execute_result"
    }
   ],
   "source": [
    "mat15.tail(2)"
   ]
  },
  {
   "cell_type": "code",
   "execution_count": 9,
   "metadata": {
    "scrolled": false
   },
   "outputs": [
    {
     "data": {
      "text/html": [
       "<div>\n",
       "<style scoped>\n",
       "    .dataframe tbody tr th:only-of-type {\n",
       "        vertical-align: middle;\n",
       "    }\n",
       "\n",
       "    .dataframe tbody tr th {\n",
       "        vertical-align: top;\n",
       "    }\n",
       "\n",
       "    .dataframe thead th {\n",
       "        text-align: right;\n",
       "    }\n",
       "</style>\n",
       "<table border=\"1\" class=\"dataframe\">\n",
       "  <thead>\n",
       "    <tr style=\"text-align: right;\">\n",
       "      <th></th>\n",
       "      <th>IN_CEGUEIRA</th>\n",
       "      <th>IN_SURDEZ</th>\n",
       "      <th>IN_AUTISMO</th>\n",
       "    </tr>\n",
       "  </thead>\n",
       "  <tbody>\n",
       "    <tr>\n",
       "      <th>0</th>\n",
       "      <td>NaN</td>\n",
       "      <td>NaN</td>\n",
       "      <td>NaN</td>\n",
       "    </tr>\n",
       "    <tr>\n",
       "      <th>1</th>\n",
       "      <td>NaN</td>\n",
       "      <td>NaN</td>\n",
       "      <td>NaN</td>\n",
       "    </tr>\n",
       "  </tbody>\n",
       "</table>\n",
       "</div>"
      ],
      "text/plain": [
       "   IN_CEGUEIRA  IN_SURDEZ  IN_AUTISMO\n",
       "0          NaN        NaN         NaN\n",
       "1          NaN        NaN         NaN"
      ]
     },
     "execution_count": 9,
     "metadata": {},
     "output_type": "execute_result"
    }
   ],
   "source": [
    "mat16.head(2)"
   ]
  },
  {
   "cell_type": "code",
   "execution_count": 10,
   "metadata": {},
   "outputs": [
    {
     "data": {
      "text/html": [
       "<div>\n",
       "<style scoped>\n",
       "    .dataframe tbody tr th:only-of-type {\n",
       "        vertical-align: middle;\n",
       "    }\n",
       "\n",
       "    .dataframe tbody tr th {\n",
       "        vertical-align: top;\n",
       "    }\n",
       "\n",
       "    .dataframe thead th {\n",
       "        text-align: right;\n",
       "    }\n",
       "</style>\n",
       "<table border=\"1\" class=\"dataframe\">\n",
       "  <thead>\n",
       "    <tr style=\"text-align: right;\">\n",
       "      <th></th>\n",
       "      <th>IN_CEGUEIRA</th>\n",
       "      <th>IN_SURDEZ</th>\n",
       "      <th>IN_AUTISMO</th>\n",
       "    </tr>\n",
       "  </thead>\n",
       "  <tbody>\n",
       "    <tr>\n",
       "      <th>0</th>\n",
       "      <td>NaN</td>\n",
       "      <td>NaN</td>\n",
       "      <td>NaN</td>\n",
       "    </tr>\n",
       "    <tr>\n",
       "      <th>1</th>\n",
       "      <td>NaN</td>\n",
       "      <td>NaN</td>\n",
       "      <td>NaN</td>\n",
       "    </tr>\n",
       "  </tbody>\n",
       "</table>\n",
       "</div>"
      ],
      "text/plain": [
       "   IN_CEGUEIRA  IN_SURDEZ  IN_AUTISMO\n",
       "0          NaN        NaN         NaN\n",
       "1          NaN        NaN         NaN"
      ]
     },
     "execution_count": 10,
     "metadata": {},
     "output_type": "execute_result"
    }
   ],
   "source": [
    "mat17.head(2)"
   ]
  },
  {
   "cell_type": "code",
   "execution_count": 11,
   "metadata": {},
   "outputs": [
    {
     "data": {
      "text/html": [
       "<div>\n",
       "<style scoped>\n",
       "    .dataframe tbody tr th:only-of-type {\n",
       "        vertical-align: middle;\n",
       "    }\n",
       "\n",
       "    .dataframe tbody tr th {\n",
       "        vertical-align: top;\n",
       "    }\n",
       "\n",
       "    .dataframe thead th {\n",
       "        text-align: right;\n",
       "    }\n",
       "</style>\n",
       "<table border=\"1\" class=\"dataframe\">\n",
       "  <thead>\n",
       "    <tr style=\"text-align: right;\">\n",
       "      <th></th>\n",
       "      <th>IN_CEGUEIRA</th>\n",
       "      <th>IN_SURDEZ</th>\n",
       "      <th>IN_AUTISMO</th>\n",
       "    </tr>\n",
       "  </thead>\n",
       "  <tbody>\n",
       "    <tr>\n",
       "      <th>0</th>\n",
       "      <td>NaN</td>\n",
       "      <td>NaN</td>\n",
       "      <td>NaN</td>\n",
       "    </tr>\n",
       "    <tr>\n",
       "      <th>1</th>\n",
       "      <td>NaN</td>\n",
       "      <td>NaN</td>\n",
       "      <td>NaN</td>\n",
       "    </tr>\n",
       "  </tbody>\n",
       "</table>\n",
       "</div>"
      ],
      "text/plain": [
       "   IN_CEGUEIRA  IN_SURDEZ  IN_AUTISMO\n",
       "0          NaN        NaN         NaN\n",
       "1          NaN        NaN         NaN"
      ]
     },
     "execution_count": 11,
     "metadata": {},
     "output_type": "execute_result"
    }
   ],
   "source": [
    "mat18.head(2)"
   ]
  },
  {
   "cell_type": "code",
   "execution_count": 12,
   "metadata": {},
   "outputs": [
    {
     "name": "stdout",
     "output_type": "stream",
     "text": [
      "5269\n",
      "1102\n",
      "5053\n"
     ]
    }
   ],
   "source": [
    "mat_14_srd = mat14.query('ID_TIPO_NEC_ESP_SURDEZ == 1')['ID_TIPO_NEC_ESP_SURDEZ'].count()\n",
    "mat_14_ceg = mat14.query('ID_TIPO_NEC_ESP_CEGUEIRA == 1')['ID_TIPO_NEC_ESP_CEGUEIRA'].count()\n",
    "mat_14_aut = mat14.query('ID_TIPO_NEC_ESP_AUTISMO == 1')['ID_TIPO_NEC_ESP_AUTISMO'].count()\n",
    "print(mat_14_srd)\n",
    "print(mat_14_ceg)\n",
    "print(mat_14_aut)"
   ]
  },
  {
   "cell_type": "code",
   "execution_count": 13,
   "metadata": {},
   "outputs": [
    {
     "name": "stdout",
     "output_type": "stream",
     "text": [
      "5242\n",
      "1227\n",
      "6898\n"
     ]
    }
   ],
   "source": [
    "mat_15_srd = mat15.query('IN_SURDEZ == 1')['IN_SURDEZ'].count()\n",
    "mat_15_ceg = mat15.query('IN_CEGUEIRA == 1')['IN_CEGUEIRA'].count()\n",
    "mat_15_aut = mat15.query('IN_AUTISMO == 1')['IN_AUTISMO'].count()\n",
    "print(mat_15_srd)\n",
    "print(mat_15_ceg)\n",
    "print(mat_15_aut)"
   ]
  },
  {
   "cell_type": "code",
   "execution_count": 14,
   "metadata": {},
   "outputs": [
    {
     "name": "stdout",
     "output_type": "stream",
     "text": [
      "4707\n",
      "1272\n",
      "9390\n"
     ]
    }
   ],
   "source": [
    "mat_16_srd = mat16.query('IN_SURDEZ == 1')['IN_SURDEZ'].count()\n",
    "mat_16_ceg = mat16.query('IN_CEGUEIRA == 1')['IN_CEGUEIRA'].count()\n",
    "mat_16_aut = mat16.query('IN_AUTISMO == 1')['IN_AUTISMO'].count()\n",
    "print(mat_16_srd)\n",
    "print(mat_16_ceg)\n",
    "print(mat_16_aut)"
   ]
  },
  {
   "cell_type": "code",
   "execution_count": 15,
   "metadata": {},
   "outputs": [
    {
     "name": "stdout",
     "output_type": "stream",
     "text": [
      "4864\n",
      "1311\n",
      "13014\n"
     ]
    }
   ],
   "source": [
    "mat_17_srd = mat17.query('IN_SURDEZ == 1')['IN_SURDEZ'].count()\n",
    "mat_17_ceg = mat17.query('IN_CEGUEIRA == 1')['IN_CEGUEIRA'].count()\n",
    "mat_17_aut = mat17.query('IN_AUTISMO == 1')['IN_AUTISMO'].count()\n",
    "print(mat_17_srd)\n",
    "print(mat_17_ceg)\n",
    "print(mat_17_aut)"
   ]
  },
  {
   "cell_type": "code",
   "execution_count": 16,
   "metadata": {},
   "outputs": [
    {
     "name": "stdout",
     "output_type": "stream",
     "text": [
      "4778\n",
      "1331\n",
      "17085\n"
     ]
    }
   ],
   "source": [
    "mat_18_srd = mat18.query('IN_SURDEZ == 1')['IN_SURDEZ'].count()\n",
    "mat_18_ceg = mat18.query('IN_CEGUEIRA == 1')['IN_CEGUEIRA'].count()\n",
    "mat_18_aut = mat18.query('IN_AUTISMO == 1')['IN_AUTISMO'].count()\n",
    "print(mat_18_srd)\n",
    "print(mat_18_ceg)\n",
    "print(mat_18_aut)"
   ]
  },
  {
   "cell_type": "code",
   "execution_count": 19,
   "metadata": {},
   "outputs": [
    {
     "data": {
      "image/png": "[encoded data removed]",
      "text/plain": [
       "<Figure size 648x216 with 1 Axes>"
      ]
     },
     "metadata": {
      "needs_background": "light"
     },
     "output_type": "display_data"
    }
   ],
   "source": [
    "names = ['2014', '2015', '2016', '2017', '2018']\n",
    "values = [mat_14_srd, mat_15_srd, mat_16_srd, mat_17_srd, mat_18_srd]\n",
    "\n",
    "plt.figure(figsize=(9, 3))\n",
    "\n",
    "plt.bar(names, values)\n",
    "plt.suptitle('Surdos')\n",
    "plt.show()"
   ]
  },
  {
   "cell_type": "code",
   "execution_count": 20,
   "metadata": {},
   "outputs": [
    {
     "data": {
      "image/png": "[encoded data removed]",
      "text/plain": [
       "<Figure size 648x216 with 1 Axes>"
      ]
     },
     "metadata": {
      "needs_background": "light"
     },
     "output_type": "display_data"
    }
   ],
   "source": [
    "names = ['2014', '2015', '2016', '2017', '2018']\n",
    "values = [mat_14_ceg, mat_15_ceg, mat_16_ceg, mat_17_ceg, mat_18_ceg]\n",
    "\n",
    "plt.figure(figsize=(9, 3))\n",
    "\n",
    "plt.bar(names, values)\n",
    "plt.suptitle('Cegos')\n",
    "plt.show()"
   ]
  },
  {
   "cell_type": "code",
   "execution_count": 21,
   "metadata": {},
   "outputs": [
    {
     "data": {
      "image/png": "[encoded data removed]",
      "text/plain": [
       "<Figure size 648x216 with 1 Axes>"
      ]
     },
     "metadata": {
      "needs_background": "light"
     },
     "output_type": "display_data"
    }
   ],
   "source": [
    "names = ['2014', '2015', '2016', '2017', '2018']\n",
    "values = [mat_14_aut, mat_15_aut, mat_16_aut, mat_17_aut, mat_18_aut]\n",
    "\n",
    "plt.figure(figsize=(9, 3))\n",
    "\n",
    "plt.bar(names, values)\n",
    "plt.suptitle('Autistas')\n",
    "plt.show()"
   ]
  },
  {
   "cell_type": "code",
   "execution_count": 31,
   "metadata": {},
   "outputs": [
    {
     "data": {
      "text/plain": [
       "[<matplotlib.lines.Line2D at 0x14dba70>]"
      ]
     },
     "execution_count": 31,
     "metadata": {},
     "output_type": "execute_result"
    },
    {
     "data": {
      "image/png": "[encoded data removed]",
      "text/plain": [
       "<Figure size 432x288 with 1 Axes>"
      ]
     },
     "metadata": {
      "needs_background": "light"
     },
     "output_type": "display_data"
    }
   ],
   "source": [
    "plt.plot([2014, 2015, 2016, 2017, 2018], [mat_14_aut, mat_15_aut, mat_16_aut, mat_17_aut, mat_18_aut])\n",
    "plt.plot([2014, 2015, 2016, 2017, 2018], [mat_14_ceg, mat_15_ceg, mat_16_ceg, mat_17_ceg, mat_18_ceg])\n",
    "plt.plot([2014, 2015, 2016, 2017, 2018], [mat_14_srd, mat_15_srd, mat_16_srd, mat_17_srd, mat_18_srd])"
   ]
  },
  {
   "cell_type": "code",
   "execution_count": null,
   "metadata": {},
   "outputs": [],
   "source": []
  },
  {
   "cell_type": "code",
   "execution_count": null,
   "metadata": {},
   "outputs": [],
   "source": []
  },
  {
   "cell_type": "code",
   "execution_count": null,
   "metadata": {},
   "outputs": [],
   "source": []
  },
  {
   "cell_type": "code",
   "execution_count": null,
   "metadata": {},
   "outputs": [],
   "source": []
  }
 ],
 "metadata": {
  "kernelspec": {
   "display_name": "Python 3",
   "language": "python",
   "name": "python3"
  },
  "language_info": {
   "codemirror_mode": {
    "name": "ipython",
    "version": 3
   },
   "file_extension": ".py",
   "mimetype": "text/x-python",
   "name": "python",
   "nbconvert_exporter": "python",
   "pygments_lexer": "ipython3",
   "version": "3.7.4"
  }
 },
 "nbformat": 4,
 "nbformat_minor": 2
}
